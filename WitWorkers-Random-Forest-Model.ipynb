{
 "cells": [
  {
   "cell_type": "code",
   "execution_count": 1,
   "metadata": {
    "collapsed": true
   },
   "outputs": [],
   "source": [
    "import pandas as pd\n",
    "import numpy as np"
   ]
  },
  {
   "cell_type": "code",
   "execution_count": 2,
   "metadata": {},
   "outputs": [
    {
     "name": "stderr",
     "output_type": "stream",
     "text": [
      "UsageError: Line magic function `%matplotlib.inline` not found.\n"
     ]
    }
   ],
   "source": [
    "import matplotlib.pyplot as plt\n",
    "%matplotlib.inline"
   ]
  },
  {
   "cell_type": "code",
   "execution_count": 3,
   "metadata": {
    "collapsed": true
   },
   "outputs": [],
   "source": [
    "from sklearn.model_selection import train_test_split"
   ]
  },
  {
   "cell_type": "code",
   "execution_count": 4,
   "metadata": {
    "collapsed": true
   },
   "outputs": [],
   "source": [
    "df = pd.read_csv(\"WitWorkers-dataset.csv\")"
   ]
  },
  {
   "cell_type": "code",
   "execution_count": 5,
   "metadata": {},
   "outputs": [
    {
     "data": {
      "text/html": [
       "<div>\n",
       "<style scoped>\n",
       "    .dataframe tbody tr th:only-of-type {\n",
       "        vertical-align: middle;\n",
       "    }\n",
       "\n",
       "    .dataframe tbody tr th {\n",
       "        vertical-align: top;\n",
       "    }\n",
       "\n",
       "    .dataframe thead th {\n",
       "        text-align: right;\n",
       "    }\n",
       "</style>\n",
       "<table border=\"1\" class=\"dataframe\">\n",
       "  <thead>\n",
       "    <tr style=\"text-align: right;\">\n",
       "      <th></th>\n",
       "      <th>Unnamed: 0</th>\n",
       "      <th>zipcode</th>\n",
       "      <th>Street_Connectivity</th>\n",
       "      <th>Transit_Proximity</th>\n",
       "      <th>Population</th>\n",
       "      <th>Highschool_Graduation_Rate</th>\n",
       "      <th>Rental_Houses_Units</th>\n",
       "      <th>Household_Income</th>\n",
       "      <th>Employment_Rate</th>\n",
       "      <th>actual_num</th>\n",
       "    </tr>\n",
       "  </thead>\n",
       "  <tbody>\n",
       "    <tr>\n",
       "      <th>0</th>\n",
       "      <td>0</td>\n",
       "      <td>28012</td>\n",
       "      <td>1.300000</td>\n",
       "      <td>100.000000</td>\n",
       "      <td>2451</td>\n",
       "      <td>94.000000</td>\n",
       "      <td>307.0</td>\n",
       "      <td>22976.00000</td>\n",
       "      <td>82.00</td>\n",
       "      <td>9</td>\n",
       "    </tr>\n",
       "    <tr>\n",
       "      <th>1</th>\n",
       "      <td>1</td>\n",
       "      <td>28105</td>\n",
       "      <td>1.104615</td>\n",
       "      <td>41.076923</td>\n",
       "      <td>24465</td>\n",
       "      <td>96.416667</td>\n",
       "      <td>761.0</td>\n",
       "      <td>76486.23077</td>\n",
       "      <td>94.00</td>\n",
       "      <td>281</td>\n",
       "    </tr>\n",
       "    <tr>\n",
       "      <th>2</th>\n",
       "      <td>2</td>\n",
       "      <td>28126</td>\n",
       "      <td>1.120000</td>\n",
       "      <td>53.000000</td>\n",
       "      <td>10339</td>\n",
       "      <td>85.500000</td>\n",
       "      <td>575.0</td>\n",
       "      <td>53997.50000</td>\n",
       "      <td>90.75</td>\n",
       "      <td>2</td>\n",
       "    </tr>\n",
       "    <tr>\n",
       "      <th>3</th>\n",
       "      <td>3</td>\n",
       "      <td>28202</td>\n",
       "      <td>1.485000</td>\n",
       "      <td>100.000000</td>\n",
       "      <td>11144</td>\n",
       "      <td>90.000000</td>\n",
       "      <td>22.0</td>\n",
       "      <td>63866.00000</td>\n",
       "      <td>94.00</td>\n",
       "      <td>116</td>\n",
       "    </tr>\n",
       "    <tr>\n",
       "      <th>4</th>\n",
       "      <td>4</td>\n",
       "      <td>28203</td>\n",
       "      <td>1.420000</td>\n",
       "      <td>100.000000</td>\n",
       "      <td>14820</td>\n",
       "      <td>90.333333</td>\n",
       "      <td>757.0</td>\n",
       "      <td>77448.60000</td>\n",
       "      <td>96.20</td>\n",
       "      <td>45</td>\n",
       "    </tr>\n",
       "  </tbody>\n",
       "</table>\n",
       "</div>"
      ],
      "text/plain": [
       "   Unnamed: 0  zipcode  Street_Connectivity  Transit_Proximity  Population  \\\n",
       "0           0    28012             1.300000         100.000000        2451   \n",
       "1           1    28105             1.104615          41.076923       24465   \n",
       "2           2    28126             1.120000          53.000000       10339   \n",
       "3           3    28202             1.485000         100.000000       11144   \n",
       "4           4    28203             1.420000         100.000000       14820   \n",
       "\n",
       "   Highschool_Graduation_Rate  Rental_Houses_Units  Household_Income  \\\n",
       "0                   94.000000                307.0       22976.00000   \n",
       "1                   96.416667                761.0       76486.23077   \n",
       "2                   85.500000                575.0       53997.50000   \n",
       "3                   90.000000                 22.0       63866.00000   \n",
       "4                   90.333333                757.0       77448.60000   \n",
       "\n",
       "   Employment_Rate  actual_num  \n",
       "0            82.00           9  \n",
       "1            94.00         281  \n",
       "2            90.75           2  \n",
       "3            94.00         116  \n",
       "4            96.20          45  "
      ]
     },
     "execution_count": 5,
     "metadata": {},
     "output_type": "execute_result"
    }
   ],
   "source": [
    "df.head()"
   ]
  },
  {
   "cell_type": "code",
   "execution_count": 6,
   "metadata": {},
   "outputs": [
    {
     "data": {
      "text/html": [
       "<div>\n",
       "<style scoped>\n",
       "    .dataframe tbody tr th:only-of-type {\n",
       "        vertical-align: middle;\n",
       "    }\n",
       "\n",
       "    .dataframe tbody tr th {\n",
       "        vertical-align: top;\n",
       "    }\n",
       "\n",
       "    .dataframe thead th {\n",
       "        text-align: right;\n",
       "    }\n",
       "</style>\n",
       "<table border=\"1\" class=\"dataframe\">\n",
       "  <thead>\n",
       "    <tr style=\"text-align: right;\">\n",
       "      <th></th>\n",
       "      <th>zipcode</th>\n",
       "      <th>Street_Connectivity</th>\n",
       "      <th>Transit_Proximity</th>\n",
       "      <th>Population</th>\n",
       "      <th>Highschool_Graduation_Rate</th>\n",
       "      <th>Rental_Houses_Units</th>\n",
       "      <th>Household_Income</th>\n",
       "      <th>Employment_Rate</th>\n",
       "      <th>actual_num</th>\n",
       "    </tr>\n",
       "  </thead>\n",
       "  <tbody>\n",
       "    <tr>\n",
       "      <th>0</th>\n",
       "      <td>28012</td>\n",
       "      <td>1.300000</td>\n",
       "      <td>100.000000</td>\n",
       "      <td>2451</td>\n",
       "      <td>94.000000</td>\n",
       "      <td>307.0</td>\n",
       "      <td>22976.00000</td>\n",
       "      <td>82.00</td>\n",
       "      <td>9</td>\n",
       "    </tr>\n",
       "    <tr>\n",
       "      <th>1</th>\n",
       "      <td>28105</td>\n",
       "      <td>1.104615</td>\n",
       "      <td>41.076923</td>\n",
       "      <td>24465</td>\n",
       "      <td>96.416667</td>\n",
       "      <td>761.0</td>\n",
       "      <td>76486.23077</td>\n",
       "      <td>94.00</td>\n",
       "      <td>281</td>\n",
       "    </tr>\n",
       "    <tr>\n",
       "      <th>2</th>\n",
       "      <td>28126</td>\n",
       "      <td>1.120000</td>\n",
       "      <td>53.000000</td>\n",
       "      <td>10339</td>\n",
       "      <td>85.500000</td>\n",
       "      <td>575.0</td>\n",
       "      <td>53997.50000</td>\n",
       "      <td>90.75</td>\n",
       "      <td>2</td>\n",
       "    </tr>\n",
       "    <tr>\n",
       "      <th>3</th>\n",
       "      <td>28202</td>\n",
       "      <td>1.485000</td>\n",
       "      <td>100.000000</td>\n",
       "      <td>11144</td>\n",
       "      <td>90.000000</td>\n",
       "      <td>22.0</td>\n",
       "      <td>63866.00000</td>\n",
       "      <td>94.00</td>\n",
       "      <td>116</td>\n",
       "    </tr>\n",
       "    <tr>\n",
       "      <th>4</th>\n",
       "      <td>28203</td>\n",
       "      <td>1.420000</td>\n",
       "      <td>100.000000</td>\n",
       "      <td>14820</td>\n",
       "      <td>90.333333</td>\n",
       "      <td>757.0</td>\n",
       "      <td>77448.60000</td>\n",
       "      <td>96.20</td>\n",
       "      <td>45</td>\n",
       "    </tr>\n",
       "  </tbody>\n",
       "</table>\n",
       "</div>"
      ],
      "text/plain": [
       "   zipcode  Street_Connectivity  Transit_Proximity  Population  \\\n",
       "0    28012             1.300000         100.000000        2451   \n",
       "1    28105             1.104615          41.076923       24465   \n",
       "2    28126             1.120000          53.000000       10339   \n",
       "3    28202             1.485000         100.000000       11144   \n",
       "4    28203             1.420000         100.000000       14820   \n",
       "\n",
       "   Highschool_Graduation_Rate  Rental_Houses_Units  Household_Income  \\\n",
       "0                   94.000000                307.0       22976.00000   \n",
       "1                   96.416667                761.0       76486.23077   \n",
       "2                   85.500000                575.0       53997.50000   \n",
       "3                   90.000000                 22.0       63866.00000   \n",
       "4                   90.333333                757.0       77448.60000   \n",
       "\n",
       "   Employment_Rate  actual_num  \n",
       "0            82.00           9  \n",
       "1            94.00         281  \n",
       "2            90.75           2  \n",
       "3            94.00         116  \n",
       "4            96.20          45  "
      ]
     },
     "execution_count": 6,
     "metadata": {},
     "output_type": "execute_result"
    }
   ],
   "source": [
    "df = df.iloc[:,1:]\n",
    "df.head()"
   ]
  },
  {
   "cell_type": "code",
   "execution_count": 7,
   "metadata": {},
   "outputs": [
    {
     "data": {
      "text/html": [
       "<div>\n",
       "<style scoped>\n",
       "    .dataframe tbody tr th:only-of-type {\n",
       "        vertical-align: middle;\n",
       "    }\n",
       "\n",
       "    .dataframe tbody tr th {\n",
       "        vertical-align: top;\n",
       "    }\n",
       "\n",
       "    .dataframe thead th {\n",
       "        text-align: right;\n",
       "    }\n",
       "</style>\n",
       "<table border=\"1\" class=\"dataframe\">\n",
       "  <thead>\n",
       "    <tr style=\"text-align: right;\">\n",
       "      <th></th>\n",
       "      <th>Street_Connectivity</th>\n",
       "      <th>Transit_Proximity</th>\n",
       "      <th>Population</th>\n",
       "      <th>Highschool_Graduation_Rate</th>\n",
       "      <th>Rental_Houses_Units</th>\n",
       "      <th>Household_Income</th>\n",
       "      <th>Employment_Rate</th>\n",
       "    </tr>\n",
       "  </thead>\n",
       "  <tbody>\n",
       "    <tr>\n",
       "      <th>0</th>\n",
       "      <td>1.300000</td>\n",
       "      <td>100.000000</td>\n",
       "      <td>2451</td>\n",
       "      <td>94.000000</td>\n",
       "      <td>307.0</td>\n",
       "      <td>22976.00000</td>\n",
       "      <td>82.00</td>\n",
       "    </tr>\n",
       "    <tr>\n",
       "      <th>1</th>\n",
       "      <td>1.104615</td>\n",
       "      <td>41.076923</td>\n",
       "      <td>24465</td>\n",
       "      <td>96.416667</td>\n",
       "      <td>761.0</td>\n",
       "      <td>76486.23077</td>\n",
       "      <td>94.00</td>\n",
       "    </tr>\n",
       "    <tr>\n",
       "      <th>2</th>\n",
       "      <td>1.120000</td>\n",
       "      <td>53.000000</td>\n",
       "      <td>10339</td>\n",
       "      <td>85.500000</td>\n",
       "      <td>575.0</td>\n",
       "      <td>53997.50000</td>\n",
       "      <td>90.75</td>\n",
       "    </tr>\n",
       "    <tr>\n",
       "      <th>3</th>\n",
       "      <td>1.485000</td>\n",
       "      <td>100.000000</td>\n",
       "      <td>11144</td>\n",
       "      <td>90.000000</td>\n",
       "      <td>22.0</td>\n",
       "      <td>63866.00000</td>\n",
       "      <td>94.00</td>\n",
       "    </tr>\n",
       "    <tr>\n",
       "      <th>4</th>\n",
       "      <td>1.420000</td>\n",
       "      <td>100.000000</td>\n",
       "      <td>14820</td>\n",
       "      <td>90.333333</td>\n",
       "      <td>757.0</td>\n",
       "      <td>77448.60000</td>\n",
       "      <td>96.20</td>\n",
       "    </tr>\n",
       "  </tbody>\n",
       "</table>\n",
       "</div>"
      ],
      "text/plain": [
       "   Street_Connectivity  Transit_Proximity  Population  \\\n",
       "0             1.300000         100.000000        2451   \n",
       "1             1.104615          41.076923       24465   \n",
       "2             1.120000          53.000000       10339   \n",
       "3             1.485000         100.000000       11144   \n",
       "4             1.420000         100.000000       14820   \n",
       "\n",
       "   Highschool_Graduation_Rate  Rental_Houses_Units  Household_Income  \\\n",
       "0                   94.000000                307.0       22976.00000   \n",
       "1                   96.416667                761.0       76486.23077   \n",
       "2                   85.500000                575.0       53997.50000   \n",
       "3                   90.000000                 22.0       63866.00000   \n",
       "4                   90.333333                757.0       77448.60000   \n",
       "\n",
       "   Employment_Rate  \n",
       "0            82.00  \n",
       "1            94.00  \n",
       "2            90.75  \n",
       "3            94.00  \n",
       "4            96.20  "
      ]
     },
     "execution_count": 7,
     "metadata": {},
     "output_type": "execute_result"
    }
   ],
   "source": [
    "x = df.iloc[0:,1:-1]\n",
    "x.head()"
   ]
  },
  {
   "cell_type": "code",
   "execution_count": 8,
   "metadata": {},
   "outputs": [
    {
     "data": {
      "text/plain": [
       "0      9\n",
       "1    281\n",
       "2      2\n",
       "3    116\n",
       "4     45\n",
       "Name: actual_num, dtype: int64"
      ]
     },
     "execution_count": 8,
     "metadata": {},
     "output_type": "execute_result"
    }
   ],
   "source": [
    "y = df['actual_num']\n",
    "y.head()"
   ]
  },
  {
   "cell_type": "code",
   "execution_count": 9,
   "metadata": {
    "collapsed": true
   },
   "outputs": [],
   "source": [
    "X_train, X_test, y_train, y_test = train_test_split(x,y, test_size = 0.10, random_state = 0)"
   ]
  },
  {
   "cell_type": "code",
   "execution_count": 10,
   "metadata": {},
   "outputs": [
    {
     "data": {
      "text/plain": [
       "2       2\n",
       "24    674\n",
       "14    937\n",
       "Name: actual_num, dtype: int64"
      ]
     },
     "execution_count": 10,
     "metadata": {},
     "output_type": "execute_result"
    }
   ],
   "source": [
    "y_test"
   ]
  },
  {
   "cell_type": "code",
   "execution_count": 11,
   "metadata": {
    "collapsed": true
   },
   "outputs": [],
   "source": [
    "import numpy.ma as ma\n",
    "X_train = np.where(np.isnan(X_train), ma.array(X_train, mask=np.isnan(X_train)).mean(axis=0), X_train)\n",
    "\n",
    "X_test = np.where(np.isnan(X_test), ma.array(X_test, mask=np.isnan(X_test)).mean(axis=0), X_test)"
   ]
  },
  {
   "cell_type": "code",
   "execution_count": null,
   "metadata": {
    "collapsed": true
   },
   "outputs": [],
   "source": []
  },
  {
   "cell_type": "code",
   "execution_count": null,
   "metadata": {
    "collapsed": true
   },
   "outputs": [],
   "source": []
  },
  {
   "cell_type": "code",
   "execution_count": 12,
   "metadata": {
    "collapsed": true
   },
   "outputs": [],
   "source": [
    "from sklearn.ensemble import RandomForestRegressor\n",
    "from sklearn.datasets import make_regression"
   ]
  },
  {
   "cell_type": "code",
   "execution_count": 13,
   "metadata": {},
   "outputs": [
    {
     "data": {
      "text/plain": [
       "RandomForestRegressor(bootstrap=True, criterion='mse', max_depth=2,\n",
       "           max_features='auto', max_leaf_nodes=None,\n",
       "           min_impurity_decrease=0.0, min_impurity_split=None,\n",
       "           min_samples_leaf=1, min_samples_split=2,\n",
       "           min_weight_fraction_leaf=0.0, n_estimators=100, n_jobs=None,\n",
       "           oob_score=False, random_state=0, verbose=0, warm_start=False)"
      ]
     },
     "execution_count": 13,
     "metadata": {},
     "output_type": "execute_result"
    }
   ],
   "source": [
    "X, y = make_regression(n_features=4, n_informative=2,\n",
    "                       random_state=0, shuffle=False)\n",
    "regr = RandomForestRegressor(max_depth=2, random_state=0,\n",
    "                             n_estimators=100)\n",
    "regr.fit(X_train, y_train)\n",
    "\n",
    "\n",
    "\n",
    "\n",
    "\n"
   ]
  },
  {
   "cell_type": "code",
   "execution_count": 14,
   "metadata": {},
   "outputs": [
    {
     "name": "stdout",
     "output_type": "stream",
     "text": [
      "[0.05692098 0.02769927 0.08276141 0.13996408 0.16632712 0.43331471\n",
      " 0.09301244]\n"
     ]
    }
   ],
   "source": [
    "\n",
    "print(regr.feature_importances_)\n",
    "\n"
   ]
  },
  {
   "cell_type": "code",
   "execution_count": 15,
   "metadata": {},
   "outputs": [
    {
     "name": "stdout",
     "output_type": "stream",
     "text": [
      "[ 409.57992638  647.09464474 1069.13582576]\n"
     ]
    }
   ],
   "source": [
    "print(regr.predict(X_test))"
   ]
  },
  {
   "cell_type": "code",
   "execution_count": 16,
   "metadata": {
    "collapsed": true
   },
   "outputs": [],
   "source": [
    "y_pred = regr.predict(X_test)"
   ]
  },
  {
   "cell_type": "code",
   "execution_count": null,
   "metadata": {
    "collapsed": true
   },
   "outputs": [],
   "source": [
    "# pvalue stat:\n"
   ]
  },
  {
   "cell_type": "code",
   "execution_count": 17,
   "metadata": {
    "collapsed": true
   },
   "outputs": [],
   "source": [
    "import pandas as pd\n",
    "import numpy as np\n",
    "from sklearn import datasets, linear_model\n",
    "from sklearn.linear_model import LinearRegression\n",
    "import statsmodels.api as sm\n",
    "from scipy import stats\n"
   ]
  },
  {
   "cell_type": "code",
   "execution_count": 18,
   "metadata": {},
   "outputs": [
    {
     "data": {
      "text/plain": [
       "ElasticNet(alpha=1.0, copy_X=True, fit_intercept=True, l1_ratio=0.5,\n",
       "      max_iter=1000, normalize=False, positive=False, precompute=False,\n",
       "      random_state=None, selection='cyclic', tol=0.0001, warm_start=False)"
      ]
     },
     "execution_count": 18,
     "metadata": {},
     "output_type": "execute_result"
    }
   ],
   "source": [
    "lm = linear_model.ElasticNet()\n",
    "\n",
    "lm.fit(X_train, y_train)"
   ]
  },
  {
   "cell_type": "code",
   "execution_count": 19,
   "metadata": {},
   "outputs": [
    {
     "name": "stdout",
     "output_type": "stream",
     "text": [
      "0.6988073883354353\n"
     ]
    }
   ],
   "source": [
    "print (lm.score(X_train, y_train))\n"
   ]
  },
  {
   "cell_type": "code",
   "execution_count": 20,
   "metadata": {},
   "outputs": [
    {
     "data": {
      "text/html": [
       "<table class=\"simpletable\">\n",
       "<caption>OLS Regression Results</caption>\n",
       "<tr>\n",
       "  <th>Dep. Variable:</th>       <td>actual_num</td>    <th>  R-squared:         </th> <td>   0.910</td>\n",
       "</tr>\n",
       "<tr>\n",
       "  <th>Model:</th>                   <td>OLS</td>       <th>  Adj. R-squared:    </th> <td>   0.873</td>\n",
       "</tr>\n",
       "<tr>\n",
       "  <th>Method:</th>             <td>Least Squares</td>  <th>  F-statistic:       </th> <td>   24.61</td>\n",
       "</tr>\n",
       "<tr>\n",
       "  <th>Date:</th>             <td>Sat, 23 Mar 2019</td> <th>  Prob (F-statistic):</th> <td>1.04e-07</td>\n",
       "</tr>\n",
       "<tr>\n",
       "  <th>Time:</th>                 <td>07:36:57</td>     <th>  Log-Likelihood:    </th> <td> -164.58</td>\n",
       "</tr>\n",
       "<tr>\n",
       "  <th>No. Observations:</th>      <td>    24</td>      <th>  AIC:               </th> <td>   343.2</td>\n",
       "</tr>\n",
       "<tr>\n",
       "  <th>Df Residuals:</th>          <td>    17</td>      <th>  BIC:               </th> <td>   351.4</td>\n",
       "</tr>\n",
       "<tr>\n",
       "  <th>Df Model:</th>              <td>     7</td>      <th>                     </th>     <td> </td>   \n",
       "</tr>\n",
       "<tr>\n",
       "  <th>Covariance Type:</th>      <td>nonrobust</td>    <th>                     </th>     <td> </td>   \n",
       "</tr>\n",
       "</table>\n",
       "<table class=\"simpletable\">\n",
       "<tr>\n",
       "   <td></td>     <th>coef</th>     <th>std err</th>      <th>t</th>      <th>P>|t|</th>  <th>[0.025</th>    <th>0.975]</th>  \n",
       "</tr>\n",
       "<tr>\n",
       "  <th>x1</th> <td>-2163.7797</td> <td>  766.315</td> <td>   -2.824</td> <td> 0.012</td> <td>-3780.563</td> <td> -546.997</td>\n",
       "</tr>\n",
       "<tr>\n",
       "  <th>x2</th> <td>    5.6368</td> <td>    3.312</td> <td>    1.702</td> <td> 0.107</td> <td>   -1.350</td> <td>   12.624</td>\n",
       "</tr>\n",
       "<tr>\n",
       "  <th>x3</th> <td>    0.0163</td> <td>    0.006</td> <td>    2.835</td> <td> 0.011</td> <td>    0.004</td> <td>    0.028</td>\n",
       "</tr>\n",
       "<tr>\n",
       "  <th>x4</th> <td>  -21.9936</td> <td>   10.610</td> <td>   -2.073</td> <td> 0.054</td> <td>  -44.379</td> <td>    0.392</td>\n",
       "</tr>\n",
       "<tr>\n",
       "  <th>x5</th> <td>   -0.0807</td> <td>    0.080</td> <td>   -1.008</td> <td> 0.328</td> <td>   -0.250</td> <td>    0.088</td>\n",
       "</tr>\n",
       "<tr>\n",
       "  <th>x6</th> <td>   -0.0236</td> <td>    0.004</td> <td>   -5.381</td> <td> 0.000</td> <td>   -0.033</td> <td>   -0.014</td>\n",
       "</tr>\n",
       "<tr>\n",
       "  <th>x7</th> <td>   62.9849</td> <td>   15.477</td> <td>    4.070</td> <td> 0.001</td> <td>   30.331</td> <td>   95.639</td>\n",
       "</tr>\n",
       "</table>\n",
       "<table class=\"simpletable\">\n",
       "<tr>\n",
       "  <th>Omnibus:</th>       <td> 0.829</td> <th>  Durbin-Watson:     </th> <td>   1.930</td>\n",
       "</tr>\n",
       "<tr>\n",
       "  <th>Prob(Omnibus):</th> <td> 0.661</td> <th>  Jarque-Bera (JB):  </th> <td>   0.818</td>\n",
       "</tr>\n",
       "<tr>\n",
       "  <th>Skew:</th>          <td> 0.376</td> <th>  Prob(JB):          </th> <td>   0.664</td>\n",
       "</tr>\n",
       "<tr>\n",
       "  <th>Kurtosis:</th>      <td> 2.497</td> <th>  Cond. No.          </th> <td>9.86e+05</td>\n",
       "</tr>\n",
       "</table><br/><br/>Warnings:<br/>[1] Standard Errors assume that the covariance matrix of the errors is correctly specified.<br/>[2] The condition number is large, 9.86e+05. This might indicate that there are<br/>strong multicollinearity or other numerical problems."
      ],
      "text/plain": [
       "<class 'statsmodels.iolib.summary.Summary'>\n",
       "\"\"\"\n",
       "                            OLS Regression Results                            \n",
       "==============================================================================\n",
       "Dep. Variable:             actual_num   R-squared:                       0.910\n",
       "Model:                            OLS   Adj. R-squared:                  0.873\n",
       "Method:                 Least Squares   F-statistic:                     24.61\n",
       "Date:                Sat, 23 Mar 2019   Prob (F-statistic):           1.04e-07\n",
       "Time:                        07:36:57   Log-Likelihood:                -164.58\n",
       "No. Observations:                  24   AIC:                             343.2\n",
       "Df Residuals:                      17   BIC:                             351.4\n",
       "Df Model:                           7                                         \n",
       "Covariance Type:            nonrobust                                         \n",
       "==============================================================================\n",
       "                 coef    std err          t      P>|t|      [0.025      0.975]\n",
       "------------------------------------------------------------------------------\n",
       "x1         -2163.7797    766.315     -2.824      0.012   -3780.563    -546.997\n",
       "x2             5.6368      3.312      1.702      0.107      -1.350      12.624\n",
       "x3             0.0163      0.006      2.835      0.011       0.004       0.028\n",
       "x4           -21.9936     10.610     -2.073      0.054     -44.379       0.392\n",
       "x5            -0.0807      0.080     -1.008      0.328      -0.250       0.088\n",
       "x6            -0.0236      0.004     -5.381      0.000      -0.033      -0.014\n",
       "x7            62.9849     15.477      4.070      0.001      30.331      95.639\n",
       "==============================================================================\n",
       "Omnibus:                        0.829   Durbin-Watson:                   1.930\n",
       "Prob(Omnibus):                  0.661   Jarque-Bera (JB):                0.818\n",
       "Skew:                           0.376   Prob(JB):                        0.664\n",
       "Kurtosis:                       2.497   Cond. No.                     9.86e+05\n",
       "==============================================================================\n",
       "\n",
       "Warnings:\n",
       "[1] Standard Errors assume that the covariance matrix of the errors is correctly specified.\n",
       "[2] The condition number is large, 9.86e+05. This might indicate that there are\n",
       "strong multicollinearity or other numerical problems.\n",
       "\"\"\""
      ]
     },
     "execution_count": 20,
     "metadata": {},
     "output_type": "execute_result"
    }
   ],
   "source": [
    "c = sm.add_constant(x)\n",
    "model = sm.OLS(y_train, X_train).fit()\n",
    "model.summary()"
   ]
  },
  {
   "cell_type": "code",
   "execution_count": 21,
   "metadata": {},
   "outputs": [
    {
     "name": "stdout",
     "output_type": "stream",
     "text": [
      "3 3\n"
     ]
    }
   ],
   "source": [
    "print(len(y_pred), len(y_test))"
   ]
  },
  {
   "cell_type": "code",
   "execution_count": 22,
   "metadata": {},
   "outputs": [
    {
     "data": {
      "text/plain": [
       "2       2\n",
       "24    674\n",
       "14    937\n",
       "Name: actual_num, dtype: int64"
      ]
     },
     "execution_count": 22,
     "metadata": {},
     "output_type": "execute_result"
    }
   ],
   "source": [
    "y_test"
   ]
  },
  {
   "cell_type": "code",
   "execution_count": null,
   "metadata": {
    "collapsed": true
   },
   "outputs": [],
   "source": []
  },
  {
   "cell_type": "code",
   "execution_count": 23,
   "metadata": {
    "collapsed": true
   },
   "outputs": [],
   "source": [
    "# clusters \n"
   ]
  },
  {
   "cell_type": "code",
   "execution_count": 24,
   "metadata": {
    "collapsed": true
   },
   "outputs": [],
   "source": [
    "from sklearn.cluster import KMeans\n"
   ]
  },
  {
   "cell_type": "code",
   "execution_count": 25,
   "metadata": {
    "collapsed": true
   },
   "outputs": [],
   "source": [
    "\n",
    "kmeans = KMeans(n_clusters = 2, init = 'k-means++', max_iter = 300, n_init = 10)\n",
    "y_kmeans = kmeans.fit_predict(X_train)"
   ]
  },
  {
   "cell_type": "code",
   "execution_count": 26,
   "metadata": {},
   "outputs": [
    {
     "data": {
      "text/plain": [
       "array([1, 0, 1, 1, 0, 1, 0, 1, 1, 1, 1, 1, 0, 1, 1, 0, 0, 0, 1, 0, 0, 0,\n",
       "       1, 1])"
      ]
     },
     "execution_count": 26,
     "metadata": {},
     "output_type": "execute_result"
    }
   ],
   "source": [
    "y_kmeans"
   ]
  },
  {
   "cell_type": "code",
   "execution_count": 27,
   "metadata": {
    "collapsed": true
   },
   "outputs": [],
   "source": [
    "x = X_train"
   ]
  },
  {
   "cell_type": "code",
   "execution_count": 28,
   "metadata": {},
   "outputs": [
    {
     "data": {
      "text/plain": [
       "<matplotlib.collections.PathCollection at 0x21eee4eb320>"
      ]
     },
     "execution_count": 28,
     "metadata": {},
     "output_type": "execute_result"
    },
    {
     "data": {
      "image/png": "[encoded data removed]",
      "text/plain": [
       "<Figure size 432x288 with 1 Axes>"
      ]
     },
     "metadata": {
      "needs_background": "light"
     },
     "output_type": "display_data"
    }
   ],
   "source": [
    "plt.scatter(x[y_kmeans==0,0], x[y_kmeans==0,1], s = 100, c = 'red', label = 'cluster1')\n",
    "plt.scatter(x[y_kmeans==1,0], x[y_kmeans==1,1], s = 100, c = 'blue', label = 'cluster2')\n",
    "'''\n",
    "plt.scatter(x[y_kmeans==2,0], x[y_kmeans==2,1], s = 100, c = 'blue', label = 'cluster3')\n",
    "plt.scatter(x[y_kmeans==3,0], x[y_kmeans==3,1], s = 100, c = 'green', label = 'cluster4')\n",
    "plt.scatter(x[y_kmeans==4,0], x[y_kmeans==4,1], s = 100, c = 'black', label = 'cluster5')\n",
    "'''\n",
    "plt.scatter(kmeans.cluster_centers_[:,0], kmeans.cluster_centers_[:,1],s = 300, c = 'cyan',label = 'centroids')"
   ]
  },
  {
   "cell_type": "code",
   "execution_count": 29,
   "metadata": {},
   "outputs": [
    {
     "data": {
      "image/png": "[encoded data removed]",
      "text/plain": [
       "<Figure size 432x288 with 2 Axes>"
      ]
     },
     "metadata": {
      "needs_background": "light"
     },
     "output_type": "display_data"
    }
   ],
   "source": [
    "rng = np.random.RandomState(0)\n",
    "x = df['Employment_Rate']\n",
    "y = df['actual_num']\n",
    "colors = rng.rand(27)\n",
    "sizes = 1000 * rng.rand(27)\n",
    "plt.scatter(x, y, c=colors, s=sizes, alpha=0.4,\n",
    "cmap='viridis')\n",
    "plt.colorbar(); # show color scale"
   ]
  },
  {
   "cell_type": "code",
   "execution_count": null,
   "metadata": {
    "collapsed": true
   },
   "outputs": [],
   "source": []
  }
 ],
 "metadata": {
  "kernelspec": {
   "display_name": "Python 3",
   "language": "python",
   "name": "python3"
  },
  "language_info": {
   "codemirror_mode": {
    "name": "ipython",
    "version": 3
   },
   "file_extension": ".py",
   "mimetype": "text/x-python",
   "name": "python",
   "nbconvert_exporter": "python",
   "pygments_lexer": "ipython3",
   "version": "3.5.4"
  }
 },
 "nbformat": 4,
 "nbformat_minor": 2
}
